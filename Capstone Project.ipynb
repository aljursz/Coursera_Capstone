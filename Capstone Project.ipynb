{
 "cells": [
  {
   "cell_type": "markdown",
   "metadata": {
    "collapsed": true
   },
   "source": [
    "# Introduction/Business Problem\n",
    "\n",
    "According to a 2019 study from Ryerson University, Toronto was the second fastest growing Metropolitan Area and the top growing city in all of the United States and Canada.  The population of Toronto increased by 77,435 persons, far out pacing the next city – Phoenix with 25,288.\n",
    "\n",
    "With this large influx of people, more business will be required to support them including gyms, retail stores, restaurants, etc.  One of the main questions, and one of the main reasons for success, regarding opening a business is - as they say “location, location, location”.  \n",
    "\n",
    "In this exercise, we will analyze current venue locations in Toronto to determine possible new locations for opening a Bakery.\n"
   ]
  },
  {
   "cell_type": "markdown",
   "metadata": {},
   "source": [
    "# Data\n",
    "\n",
    "Data Sources:\n",
    "\n",
    "*Wikipedia.org:\n",
    "This will be used to obtain postal codes of Toronto, Canada which will be used in conjunction with Concl.us data to map the greater Toronto area.\n",
    "\n",
    "Example:\n",
    "Postal Code\tBorough\tNeighborhood\n",
    "M1S\tScarborough\tAgincourt\n",
    "M8W\tEtobicoke\tAlderwood, Long Branch\n",
    "\n",
    "*Cocl.us:\n",
    "Contains longitude and latitude of Toronto, Canada postal codes which will be used in conjunction with Wikipedia data to map the greater Toronto area. \n",
    "\n",
    "Example:\n",
    "Postal Code\tLatitude\tLongitude\n",
    "M1B\t43.80669\t-79.1944\n",
    "M1C\t43.78454\t-79.1605\n",
    "\n",
    "*Foursquare.com:\n",
    "This website contains business data for a multitude of businesses worldwide.  This data includes location, business category and can include ratings and reviews of businesses.  We will use this website to identify current bakery locations.\n",
    "\n",
    "Example:\n",
    "Neighborhood\tNeighborhood Latitude\tNeighborhood Longitude\tVenue\tVenue Latitude\tVenue Longitude\tVenue Category\n",
    "0\tRegent Park, Harbourfront\t43.65426\t-79.360636\tRoselle Desserts\t43.653447\t-79.362017\tBakery\n",
    "1\tRegent Park, Harbourfront\t43.65426\t-79.360636\tTandem Coffee\t43.653559\t-79.361809\tCoffee Shop\n",
    " \n",
    "*Ryerson.ca:\n",
    "Contains growth data regarding Toronto, Canada referenced in the introduction.  Full link provided:\n",
    "\n",
    "https://www.ryerson.ca/cur/Blog/blogentry35/\n"
   ]
  },
  {
   "cell_type": "code",
   "execution_count": null,
   "metadata": {},
   "outputs": [],
   "source": []
  }
 ],
 "metadata": {
  "kernelspec": {
   "display_name": "Python 3.7",
   "language": "python",
   "name": "python3"
  },
  "language_info": {
   "codemirror_mode": {
    "name": "ipython",
    "version": 3
   },
   "file_extension": ".py",
   "mimetype": "text/x-python",
   "name": "python",
   "nbconvert_exporter": "python",
   "pygments_lexer": "ipython3",
   "version": "3.7.9"
  }
 },
 "nbformat": 4,
 "nbformat_minor": 1
}
